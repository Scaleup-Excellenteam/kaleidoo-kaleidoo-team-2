{
 "cells": [
  {
   "cell_type": "markdown",
   "metadata": {},
   "source": [
    "# Text Detection from PNG/PDF Using Google Cloud Vision API\n",
    "\n",
    "In this notebook, we will perform the following steps:\n",
    "1. Convert a single-page PDF to an image.\n",
    "2. Detect text from the image using Google Cloud Vision API.\n",
    "3. Save the detected text to a text file.\n",
    "\n"
   ]
  },
  {
   "cell_type": "code",
   "execution_count": 5,
   "metadata": {},
   "outputs": [
    {
     "name": "stdout",
     "output_type": "stream",
     "text": [
      "Processing...\n",
      "הכנה למבחני האיתור למחוננים\n",
      "גאונצ'יק\n",
      "הֲבָנַת הַנִּקְרָא\n",
      "טֶלֶסְקוֹפּ\n",
      "1 הַמֶּלֶסְקוֹפּ הוּא מַכְשִׁיר הַמְאַפְשֶׁר לָנוּ לִצְפּוֹת בַּעֲצָמִים\n",
      "2 רְחוֹקִים מְאֹד. צַפָּרִים מִשְׁתַּמִּשִׁים בּוֹ כְּדֵי לִצְפּוֹת בְּצִפּוֹרִים,\n",
      "3 וְאַסְטְרוֹנוֹמִים מִשְׁתַּמְשִׁים בּוֹ לִצְפִיָּה בֶּחָלָל.\n",
      "4 אֶת הַמֶּלֶסְקוֹפּ לֹא הִמְצִיא אִישׁ אֶחָד, אֶלָּא הַרְבֵּה אֲנָשִׁים\n",
      "5 יַחַד. לִפְנֵי כְּ-800 שָׁנִים הִמְצִיאוּ אֲנָשִׁים שׁוֹנִים בְּהוֹלַנְד\n",
      "6 אֶת הַמֶּלֶסְקוֹפִּים הָרִאשׁוֹנִים. הֵם הָיוּ טֶלֶסְקוּפִים פְּשׁוּטִים\n",
      "7 בְּאֵיכוּת יְרוּדָה.\n",
      "8 לִפְנֵי כְּ-400 שָׁנִים הָאַסְטְרוֹנוֹם גְלִילָאוֹ גְלִילֵי בָּנָה טֶלֶסְקוֹפּ,\n",
      "9 וּבְעֶזְרַת נָסוּיִים מְדַעְיִּים הִצְלִיחַ לְשְׁפֶר וּלְשִׁכְלֵל אוֹתוֹ. הוּא\n",
      "10 הָיָה הַחוֹקֵר הָרִאשׁוֹן שֶׁהִצְלִיחַ לִצְפּוֹת בֶּחָלָל בְּאֶמְצָעוּת\n",
      "11 טֶלֶסְקוֹפּ. בְּתַצְפִּיּוֹתָיו גִּלָּה שֶׁיֵּשׁ בַּיָּרֵחַ הָרִים וַעֲמָקִים כְּמוֹ\n",
      "12 בְּכַדּוּר הָאָרֶץ, שֶׁלְכּוֹכָב הַלֶּכֶת צֶדֶק יֵשׁ יְרָחִים וְשָׁלְכּוֹכָב\n",
      "13 הַלֶּכֶת שִׁבְּתַאִי יֵשׁ טַבָּעוֹת.\n",
      "1. לְשֵׁם מָה צָרִיךְ טֶלֶסְקוֹפּ?\n",
      "א. כְּדֵי לַחְקוֹ עֲצָמוֹת מִכָּל הַגְּדֹלִים.\n",
      "ב. כְּדֵי לְטַפֵל בְּצִפּוֹרִים נוֹדְדוֹת.\n",
      "ג. כְּדֵי לִרְאוֹת דְּבָרִים רְחוֹקִים.\n",
      "ד. כְּדֵי לטוס לירח.\n",
      "עמוד 10\n",
      "כל הזכויות שמורות לגאונצ'יק ש. אין להעתיק, לשכפל, להפיץ או להעביר לאחרים ללא אישור מפורש\n",
      "Done Processing.\n"
     ]
    }
   ],
   "source": [
    "import os\n",
    "import io\n",
    "from google.cloud import vision\n",
    "import fitz\n",
    "from PIL import Image\n",
    "from pathlib import Path\n",
    "\n",
    "src_path = \"/home/borisg/Python/Kaleidoo/TestingSamples/PDF_example.pdf\"\n",
    "dst_path = \"TestingOutputs/pdf_to_img_example_transcript.txt\"\n",
    "\n",
    "poppler_path = '/usr/bin/pdfinfo' # for pdf to img lib\n",
    "\n",
    "# Load JSON key into env var\n",
    "os.environ['GOOGLE_APPLICATION_CREDENTIALS'] = '/home/borisg/Python/Kaleidoo/kaleidoo-435715-96fdd3ef71f6.json' \n",
    "\n",
    "def detect_text_from_image(image_path):\n",
    "    client = vision.ImageAnnotatorClient()\n",
    "\n",
    "    with open(image_path, \"rb\") as image_file:\n",
    "        content = image_file.read()\n",
    "\n",
    "    print (\"Processing...\")\n",
    "\n",
    "    image = vision.Image(content=content)\n",
    "\n",
    "    image_context = vision.ImageContext(\n",
    "        language_hints=['he']  \n",
    "    )\n",
    "\n",
    "    response = client.text_detection(image=image, image_context=image_context)\n",
    "\n",
    "    response = client.text_detection(image=image)\n",
    "    texts = response.text_annotations\n",
    "\n",
    "    if texts:\n",
    "        print(texts[0].description)\n",
    "    else:\n",
    "        print(\"No text detected.\")\n",
    "    \n",
    "    print (\"Done Processing.\")\n",
    "\n",
    "    if response.error.message:\n",
    "        raise Exception(f'{response.error.message}')\n",
    "\n",
    "\n",
    "# Convert single-page PDF to an image\n",
    "img_dst_path = '/home/borisg/Python/Kaleidoo/TestingSamples/image_path.png'\n",
    "def pdf_to_image(pdf_path):\n",
    "    pdf_document = fitz.open(pdf_path)\n",
    "    page = pdf_document.load_page(0)\n",
    "    pix = page.get_pixmap()\n",
    "    img = Image.open(io.BytesIO(pix.tobytes()))\n",
    "    img.save(img_dst_path, format='PNG')\n",
    "    pdf_document.close()\n",
    "    return img_dst_path\n",
    "\n",
    "\n",
    "pdf_path = src_path\n",
    "detect_text_from_image(pdf_to_image(pdf_path))\n"
   ]
  }
 ],
 "metadata": {
  "kernelspec": {
   "display_name": ".venv",
   "language": "python",
   "name": "python3"
  },
  "language_info": {
   "codemirror_mode": {
    "name": "ipython",
    "version": 3
   },
   "file_extension": ".py",
   "mimetype": "text/x-python",
   "name": "python",
   "nbconvert_exporter": "python",
   "pygments_lexer": "ipython3",
   "version": "3.11.9"
  }
 },
 "nbformat": 4,
 "nbformat_minor": 2
}
