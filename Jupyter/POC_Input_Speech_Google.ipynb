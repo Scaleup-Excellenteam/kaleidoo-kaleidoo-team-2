{
 "cells": [
  {
   "cell_type": "markdown",
   "metadata": {},
   "source": [
    "# Transcription Process\n",
    "\n",
    "This notebook uses the Google Cloud Speech-to-Text API to transcribe audio file from local storage.\n",
    "It is mportant to install google speech and load google cloud key JSON into the os variable.\n",
    "The following steps are involved:\n",
    "\n",
    "1. Load the audio file from the local directory.\n",
    "2. Send the audio file to the API for transcription.\n",
    "3. Save the transcription result to a text file.\n",
    "\n",
    "Pros over other tools that were tested:\n",
    "1. Accurate\n",
    "2. Remote\n",
    "3. Fast\n",
    "\n",
    "Cons:\n",
    "1. Dependant on Google Cloud \n",
    "\n",
    "Below is the code that handles the transcription process using the Google Cloud API:"
   ]
  },
  {
   "cell_type": "code",
   "execution_count": 23,
   "metadata": {},
   "outputs": [
    {
     "name": "stdout",
     "output_type": "stream",
     "text": [
      "Processing...\n",
      "Transcript: ראובן תחרות אכילת לאפות אתה נגד ערן לוי מי לוקח את כבר שיהיה נו אבל אני לא עדיף שאני לא עונה על השאלה הזאת אמרתי לך נדבר יותר כדורגל לא מעבר לזה אוקיי שאלה לגבי כדורגל למה לכדורגלנים אומרים שאני ידע כללי לא יודע אולי זה סטיגמה חושבים שהם אולי טיפשים או משהו כזה אמרתי לך אז איך היד הכל איתך בסדר גמור נגיד מי היה מה היה מקצועו של יוחנן הסנדלר לא דבר איתי משהו בספורט תודה ראובן אחלה רעיון קצר בחתול איזה חתול בספריה\n",
      "\n",
      "Transcription complete.\n",
      "Time to process - audio_sample_1.mp3: 7.195248126983643\n",
      "\n",
      "Confidence: 0.9278915524482727\n",
      "\n",
      "\n"
     ]
    }
   ],
   "source": [
    "from google.cloud import speech_v1p1beta1 as speech\n",
    "import os\n",
    "import io\n",
    "import time\n",
    "from pathlib import Path\n",
    "\n",
    "\n",
    "os.environ['GOOGLE_APPLICATION_CREDENTIALS'] = '/home/borisg/Python/Kaleidoo/kaleidoo-435715-96fdd3ef71f6.json' \n",
    "\n",
    "src_path = \"/home/borisg/Python/Kaleidoo/TestingSamples/audio_sample_1.mp3\" \n",
    "filename = src_path\n",
    "dst_path = f\"TestingOutputs/gogole_speech_{Path(filename).name}_transcript.txt\"\n",
    "\n",
    "\n",
    "def transcribe_audio(audio_path):\n",
    "\n",
    "    start_time = time.time()\n",
    "    print(\"Processing...\")\n",
    "\n",
    "    client = speech.SpeechClient()\n",
    "\n",
    "    with io.open(audio_path, 'rb') as audio_file:\n",
    "        content = audio_file.read()\n",
    "    audio = speech.RecognitionAudio(content=content)\n",
    "\n",
    "    config = speech.RecognitionConfig(\n",
    "        encoding=speech.RecognitionConfig.AudioEncoding.MP3, \n",
    "        sample_rate_hertz=16000,  \n",
    "        language_code='he-IL' \n",
    "    )\n",
    "\n",
    "    response = client.recognize(config=config, audio=audio)\n",
    "\n",
    "    for result in response.results:\n",
    "        for alternative in result.alternatives:\n",
    "            print('Transcript: {}\\n'.format(alternative.transcript))\n",
    "\n",
    "    print(\"Transcription complete.\")\n",
    "    end_time = time.time()\n",
    "\n",
    "    print(f\"Time to process - {Path(filename).name}: {end_time-start_time}\\n\")\n",
    "    print('Confidence: {}\\n\\n'.format(alternative.confidence))\n",
    "\n",
    "\n",
    "if __name__ == '__main__':\n",
    "    transcribe_audio(src_path)"
   ]
  }
 ],
 "metadata": {
  "kernelspec": {
   "display_name": ".venv",
   "language": "python",
   "name": "python3"
  },
  "language_info": {
   "codemirror_mode": {
    "name": "ipython",
    "version": 3
   },
   "file_extension": ".py",
   "mimetype": "text/x-python",
   "name": "python",
   "nbconvert_exporter": "python",
   "pygments_lexer": "ipython3",
   "version": "3.11.9"
  }
 },
 "nbformat": 4,
 "nbformat_minor": 2
}
