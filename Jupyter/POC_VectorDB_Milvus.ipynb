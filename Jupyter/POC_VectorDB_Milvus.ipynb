{
 "cells": [
  {
   "cell_type": "code",
   "id": "initial_id",
   "metadata": {
    "collapsed": true,
    "ExecuteTime": {
     "end_time": "2024-09-16T11:17:02.135074Z",
     "start_time": "2024-09-16T11:16:58.752839Z"
    }
   },
   "source": [
    "import torch\n",
    "from transformers import AutoTokenizer, AutoModel, AutoModelForSeq2SeqLM\n",
    "from FlagEmbedding import BGEM3FlagModel\n",
    "from pymilvus import connections, Collection, CollectionSchema, FieldSchema, DataType\n",
    "import time\n",
    "from tqdm import tqdm\n",
    "import os"
   ],
   "outputs": [],
   "execution_count": 1
  },
  {
   "metadata": {
    "ExecuteTime": {
     "end_time": "2024-09-16T17:09:38.351864Z",
     "start_time": "2024-09-16T17:09:35.241021Z"
    }
   },
   "cell_type": "code",
   "source": [
    "model_name = \"onlplab/alephbert-base\"\n",
    "alephbert_model = AutoModel.from_pretrained(model_name, add_pooling_layer=False)\n",
    "alephbert_tokenizer = AutoTokenizer.from_pretrained(model_name, clean_up_tokenization_spaces=True)\n",
    "\n",
    "bgem3_model = BGEM3FlagModel('BAAI/bge-m3', use_fp16=True)"
   ],
   "id": "dee875136acc99ec",
   "outputs": [
    {
     "data": {
      "text/plain": [
       "Fetching 30 files:   0%|          | 0/30 [00:00<?, ?it/s]"
      ],
      "application/vnd.jupyter.widget-view+json": {
       "version_major": 2,
       "version_minor": 0,
       "model_id": "73efc59ad0f24b5aa7770aaf08aef817"
      }
     },
     "metadata": {},
     "output_type": "display_data"
    }
   ],
   "execution_count": 19
  },
  {
   "metadata": {
    "ExecuteTime": {
     "end_time": "2024-09-16T17:09:45.924360Z",
     "start_time": "2024-09-16T17:09:45.911361Z"
    }
   },
   "cell_type": "code",
   "source": [
    "def get_alephbert_embedding(text):\n",
    "    inputs = alephbert_tokenizer(text, return_tensors=\"pt\", padding=True, truncation=True, max_length=512)\n",
    "    with torch.no_grad():\n",
    "        outputs = alephbert_model(**inputs)\n",
    "    return outputs.last_hidden_state[:, 0, :].numpy().flatten()\n",
    "\n",
    "def get_bgem3_embedding(text):\n",
    "    return bgem3_model.encode([text], batch_size=1, max_length=8192)['dense_vecs'][0]\n",
    "\n",
    "def load_sentences(file_path):\n",
    "    with open(file_path, 'r', encoding='utf-8') as file:\n",
    "        return [(line.strip(), os.path.basename(file_path)) for line in file if line.strip()]"
   ],
   "id": "a1660d976ff0ae24",
   "outputs": [],
   "execution_count": 20
  },
  {
   "metadata": {
    "ExecuteTime": {
     "end_time": "2024-09-16T17:09:48.490046Z",
     "start_time": "2024-09-16T17:09:47.378821Z"
    }
   },
   "cell_type": "code",
   "source": [
    "# Connect to Milvus\n",
    "connections.connect(\"default\", host=\"localhost\", port=\"19530\")\n",
    "\n",
    "alephbert_dim = 768\n",
    "bgem3_dim = 1024\n",
    "\n",
    "def create_collection(name, dim):\n",
    "    fields = [\n",
    "        FieldSchema(name=\"id\", dtype=DataType.INT64, is_primary=True, auto_id=False),\n",
    "        FieldSchema(name=\"text\", dtype=DataType.VARCHAR, max_length=65535),\n",
    "        FieldSchema(name=\"embedding\", dtype=DataType.FLOAT_VECTOR, dim=dim),\n",
    "        FieldSchema(name=\"filename\", dtype=DataType.VARCHAR, max_length=256),\n",
    "    ]\n",
    "    schema = CollectionSchema(fields, f\"{name} embeddings\")\n",
    "    collection = Collection(name=name, schema=schema)\n",
    "    index_params = {\n",
    "        \"metric_type\": \"L2\",\n",
    "        \"index_type\": \"IVF_FLAT\",\n",
    "        \"params\": {\"nlist\": 1024}\n",
    "    }\n",
    "    collection.create_index(field_name=\"embedding\", index_params=index_params)\n",
    "    return collection\n",
    "\n",
    "alephbert_collection = create_collection(\"alephbert_test\", alephbert_dim)\n",
    "bgem3_collection = create_collection(\"bgem3_test\", bgem3_dim)"
   ],
   "id": "e6be33cba5183d10",
   "outputs": [],
   "execution_count": 21
  },
  {
   "metadata": {
    "ExecuteTime": {
     "end_time": "2024-09-16T17:10:41.751291Z",
     "start_time": "2024-09-16T17:09:59.666740Z"
    }
   },
   "cell_type": "code",
   "source": [
    "\n",
    "\n",
    "def insert_embeddings(collection, texts_with_metadata, get_embedding_func):\n",
    "    data = []\n",
    "    for i, (text, filename) in enumerate(tqdm(texts_with_metadata, desc=f\"Creating embeddings for {collection.name}\")):\n",
    "        embedding = get_embedding_func(text)\n",
    "        data.append({\n",
    "            \"id\": i,\n",
    "            \"text\": text,\n",
    "            \"embedding\": embedding.tolist(),\n",
    "            \"filename\": filename,\n",
    "        })\n",
    "    \n",
    "    collection.insert(data)\n",
    "    \n",
    "hebrew_texts_1 = load_sentences('ישראל_wikipedia.txt')\n",
    "hebrew_texts_2 = load_sentences('תכנות מונחה עצמים_wikipedia.txt')\n",
    "texts_3 = load_sentences('mathematics_wikipedia.txt')\n",
    "text_src = [hebrew_texts_1, hebrew_texts_2, texts_3]\n",
    "for i in text_src:   \n",
    "    insert_embeddings(alephbert_collection, i, get_alephbert_embedding)\n",
    "    insert_embeddings(bgem3_collection, i, get_bgem3_embedding)"
   ],
   "id": "95d44b30554f9b3",
   "outputs": [
    {
     "name": "stderr",
     "output_type": "stream",
     "text": [
      "Creating embeddings for alephbert_test: 100%|██████████| 358/358 [00:16<00:00, 22.05it/s]\n",
      "Creating embeddings for bgem3_test: 100%|██████████| 358/358 [00:05<00:00, 63.98it/s]\n",
      "Creating embeddings for alephbert_test: 100%|██████████| 98/98 [00:03<00:00, 25.10it/s]\n",
      "Creating embeddings for bgem3_test: 100%|██████████| 98/98 [00:01<00:00, 57.36it/s]\n",
      "Creating embeddings for alephbert_test: 100%|██████████| 211/211 [00:10<00:00, 19.22it/s]\n",
      "Creating embeddings for bgem3_test: 100%|██████████| 211/211 [00:03<00:00, 62.60it/s]\n"
     ]
    }
   ],
   "execution_count": 22
  },
  {
   "metadata": {
    "ExecuteTime": {
     "end_time": "2024-09-16T17:10:46.275696Z",
     "start_time": "2024-09-16T17:10:46.257091Z"
    }
   },
   "cell_type": "code",
   "source": [
    "def similarity_search(collection, query_text, get_embedding_func, top_k=5):\n",
    "    start_time = time.time()\n",
    "    query_embedding = get_embedding_func(query_text)\n",
    "    extraction_time = time.time() - start_time\n",
    "    \n",
    "    collection.load()\n",
    "    \n",
    "    start_time = time.time()\n",
    "    results = collection.search(\n",
    "        data=[query_embedding.tolist()],\n",
    "        anns_field=\"embedding\",\n",
    "        param={\"metric_type\": \"L2\", \"params\": {\"nprobe\": 10}},\n",
    "        limit=top_k,\n",
    "        output_fields=[\"text\", \"filename\"]\n",
    "    )\n",
    "    search_time = time.time() - start_time\n",
    "    \n",
    "    print(f\"Query embedding extraction time: {extraction_time:.4f} seconds\")\n",
    "    print(f\"Milvus search time: {search_time:.4f} seconds\")\n",
    "    \n",
    "    return results"
   ],
   "id": "bace294fef95ff14",
   "outputs": [],
   "execution_count": 23
  },
  {
   "metadata": {
    "ExecuteTime": {
     "end_time": "2024-09-16T17:11:09.152594Z",
     "start_time": "2024-09-16T17:11:05.822318Z"
    }
   },
   "cell_type": "code",
   "source": [
    "query = \"מתמטיקה דיסקרטית\"\n",
    "\n",
    "print(\"AlephBERT Results:\")\n",
    "alephbert_results = similarity_search(alephbert_collection, query, get_alephbert_embedding)\n",
    "print(f\"Top {len(alephbert_results[0])} similar sentences to '{query}':\")\n",
    "for i, result in enumerate(alephbert_results[0]):\n",
    "    print(f\"{i+1}. {result.entity.get('text')} (Distance: {result.distance})\")\n",
    "    print(f\"   File: {result.entity.get('filename')}\")\n",
    "\n",
    "print(\"\\nBGEM3 Results:\")\n",
    "bgem3_results = similarity_search(bgem3_collection, query, get_bgem3_embedding)\n",
    "print(f\"Top {len(bgem3_results[0])} similar sentences to '{query}':\")\n",
    "for i, result in enumerate(bgem3_results[0]):\n",
    "    print(f\"{i+1}. {result.entity.get('text')} (Distance: {result.distance})\")\n",
    "    print(f\"   File: {result.entity.get('filename')}\")"
   ],
   "id": "4a01d9232575e463",
   "outputs": [
    {
     "name": "stdout",
     "output_type": "stream",
     "text": [
      "AlephBERT Results:\n",
      "Query embedding extraction time: 0.0307 seconds\n",
      "Milvus search time: 0.6455 seconds\n",
      "Top 3 similar sentences to 'מתמטיקה דיסקרטית':\n",
      "1. שפה (Distance: 280.8265686035156)\n",
      "   File: ישראל_wikipedia.txt\n",
      "2. היסטוריה (Distance: 317.5686340332031)\n",
      "   File: ישראל_wikipedia.txt\n",
      "3. היסטוריה (Distance: 317.5686340332031)\n",
      "   File: תכנות מונחה עצמים_wikipedia.txt\n",
      "\n",
      "BGEM3 Results:\n",
      "Query embedding extraction time: 0.0711 seconds\n",
      "Milvus search time: 0.9041 seconds\n",
      "Top 3 similar sentences to 'מתמטיקה דיסקרטית':\n",
      "1. Discrete mathematics (Distance: 0.3976154625415802)\n",
      "   File: mathematics_wikipedia.txt\n",
      "2. Discrete geometry (Distance: 0.5477763414382935)\n",
      "   File: mathematics_wikipedia.txt\n",
      "3. Discrete probability distributions (Distance: 0.5578590631484985)\n",
      "   File: mathematics_wikipedia.txt\n"
     ]
    }
   ],
   "execution_count": 24
  },
  {
   "metadata": {
    "ExecuteTime": {
     "end_time": "2024-09-16T17:11:27.691881Z",
     "start_time": "2024-09-16T17:11:27.512757Z"
    }
   },
   "cell_type": "code",
   "source": [
    "query = \"Israel state\"\n",
    "\n",
    "print(\"AlephBERT Results:\")\n",
    "alephbert_results = similarity_search(alephbert_collection, query, get_alephbert_embedding)\n",
    "print(f\"Top {len(alephbert_results[0])} similar sentences to '{query}':\")\n",
    "for i, result in enumerate(alephbert_results[0]):\n",
    "    print(f\"{i+1}. {result.entity.get('text')} (Distance: {result.distance})\")\n",
    "    print(f\"   File: {result.entity.get('filename')}\")\n",
    "\n",
    "print(\"\\nBGEM3 Results:\")\n",
    "bgem3_results = similarity_search(bgem3_collection, query, get_bgem3_embedding)\n",
    "print(f\"Top {len(bgem3_results[0])} similar sentences to '{query}':\")\n",
    "for i, result in enumerate(bgem3_results[0]):\n",
    "    print(f\"{i+1}. {result.entity.get('text')} (Distance: {result.distance})\")\n",
    "    print(f\"   File: {result.entity.get('filename')}\")"
   ],
   "id": "df51cf4f77bebcd2",
   "outputs": [
    {
     "name": "stdout",
     "output_type": "stream",
     "text": [
      "AlephBERT Results:\n",
      "Query embedding extraction time: 0.0260 seconds\n",
      "Milvus search time: 0.0030 seconds\n",
      "Top 3 similar sentences to 'Israel state':\n",
      "1. גבולות ישראל (Distance: 225.12490844726562)\n",
      "   File: ישראל_wikipedia.txt\n",
      "2. Reality (Distance: 255.7299041748047)\n",
      "   File: mathematics_wikipedia.txt\n",
      "3. שם המדינה (Distance: 258.9053955078125)\n",
      "   File: ישראל_wikipedia.txt\n",
      "\n",
      "BGEM3 Results:\n",
      "Query embedding extraction time: 0.1291 seconds\n",
      "Milvus search time: 0.0030 seconds\n",
      "Top 3 similar sentences to 'Israel state':\n",
      "1. ישראל, סרטונים בערוץ היוטיוב (Distance: 0.8721590042114258)\n",
      "   File: ישראל_wikipedia.txt\n",
      "2. גבולות ישראל (Distance: 0.8847226500511169)\n",
      "   File: ישראל_wikipedia.txt\n",
      "3. שם המדינה (Distance: 0.8852741122245789)\n",
      "   File: ישראל_wikipedia.txt\n"
     ]
    }
   ],
   "execution_count": 25
  },
  {
   "metadata": {
    "ExecuteTime": {
     "end_time": "2024-09-16T17:11:55.961437Z",
     "start_time": "2024-09-16T17:11:54.732795Z"
    }
   },
   "cell_type": "code",
   "source": [
    "alephbert_collection.release()\n",
    "bgem3_collection.release()\n",
    "connections.disconnect(\"default\")"
   ],
   "id": "da43866826156c4e",
   "outputs": [],
   "execution_count": 26
  },
  {
   "metadata": {
    "ExecuteTime": {
     "end_time": "2024-09-16T17:11:48.104994Z",
     "start_time": "2024-09-16T17:11:48.098916Z"
    }
   },
   "cell_type": "code",
   "source": "",
   "id": "b202356ae3d20288",
   "outputs": [],
   "execution_count": 25
  },
  {
   "metadata": {
    "ExecuteTime": {
     "end_time": "2024-09-16T17:12:17.225019Z",
     "start_time": "2024-09-16T17:12:17.221019Z"
    }
   },
   "cell_type": "code",
   "source": [
    "#run to delete a collection\n",
    "\n",
    "# from pymilvus import connections, utility\n",
    "# \n",
    "# # Connect to Milvus\n",
    "# connections.connect(\"default\", host=\"localhost\", port=\"19530\")\n",
    "# \n",
    "# def delete_collection(collection_name):\n",
    "#     try:\n",
    "#         # Check if the collection exists\n",
    "#         if utility.has_collection(collection_name):\n",
    "#             # Drop the collection\n",
    "#             utility.drop_collection(collection_name)\n",
    "#             print(f\"Collection '{collection_name}' has been successfully deleted.\")\n",
    "#         else:\n",
    "#             print(f\"Collection '{collection_name}' does not exist.\")\n",
    "#     except Exception as e:\n",
    "#         print(f\"An error occurred while deleting the collection: {e}\")\n",
    "#     finally:\n",
    "#         # Disconnect from Milvus\n",
    "#         connections.disconnect(\"default\")\n",
    "# \n",
    "# # Usage\n",
    "# collection_name_to_delete = \"alephbert_test\"  # Replace with your collection name\n",
    "# delete_collection(collection_name_to_delete)"
   ],
   "id": "457b7f7ba1b18787",
   "outputs": [],
   "execution_count": 27
  },
  {
   "metadata": {
    "ExecuteTime": {
     "end_time": "2024-09-16T17:12:17.413204Z",
     "start_time": "2024-09-16T17:12:17.402204Z"
    }
   },
   "cell_type": "code",
   "source": "",
   "id": "746aadcbec934c97",
   "outputs": [],
   "execution_count": 27
  },
  {
   "metadata": {},
   "cell_type": "code",
   "outputs": [],
   "execution_count": null,
   "source": "",
   "id": "2a06b40ed7b31da2"
  }
 ],
 "metadata": {
  "kernelspec": {
   "display_name": "Python 3",
   "language": "python",
   "name": "python3"
  },
  "language_info": {
   "codemirror_mode": {
    "name": "ipython",
    "version": 2
   },
   "file_extension": ".py",
   "mimetype": "text/x-python",
   "name": "python",
   "nbconvert_exporter": "python",
   "pygments_lexer": "ipython2",
   "version": "2.7.6"
  }
 },
 "nbformat": 4,
 "nbformat_minor": 5
}
